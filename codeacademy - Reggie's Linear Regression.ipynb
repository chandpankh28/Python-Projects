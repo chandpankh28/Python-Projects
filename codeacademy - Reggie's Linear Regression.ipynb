{
 "cells": [
  {
   "cell_type": "code",
   "execution_count": 1,
   "id": "cdda0fc8-cbfc-42ca-a8ab-e89ebeb4b298",
   "metadata": {},
   "outputs": [],
   "source": [
    "#Project Goals\n",
    "#Reggie is a mad scientist who has been hired by the local fast food joint to build their newest ball pit in the play area. As such, he is working on researching the bounciness of different balls so as to optimize the pit. He is running an experiment to bounce different sizes of bouncy balls, and then fitting lines to the data points he records. He has heard of linear regression, but needs your help to implement a version of linear regression in Python.\n",
    "#Linear Regression is when you have a group of points on a graph, and you find a line that approximately resembles that group of points. A good Linear Regression algorithm minimizes the error, or the distance from each point to the line. A line with the least error is the line that fits the data the best. We call this a line of best fit.\n",
    "#In this project, you’ll combine your knowledge of loops, lists, and arithmetic to create a function that will find a line of best fit when given a set of data."
   ]
  },
  {
   "cell_type": "code",
   "execution_count": 2,
   "id": "3bb84ccf-4d69-49ac-af01-8b561c122eba",
   "metadata": {},
   "outputs": [],
   "source": [
    "# Task 1\n",
    "# Write your get_y() function here"
   ]
  },
  {
   "cell_type": "code",
   "execution_count": 34,
   "id": "c26117fe-69d7-40b0-97a7-94fc4b5c1993",
   "metadata": {},
   "outputs": [],
   "source": [
    "def get_y(m, b, x):\n",
    "    return m * x + b"
   ]
  },
  {
   "cell_type": "code",
   "execution_count": 35,
   "id": "d20987ac-75e4-4731-b8da-fb3d80688033",
   "metadata": {},
   "outputs": [],
   "source": [
    "#print(get_y(1, 0, 7) ==7)"
   ]
  },
  {
   "cell_type": "code",
   "execution_count": 36,
   "id": "d945e631-bbce-49da-90b9-882c83f929bd",
   "metadata": {},
   "outputs": [],
   "source": [
    "#print(get_y(5, 10, 3)==25)"
   ]
  },
  {
   "cell_type": "code",
   "execution_count": 12,
   "id": "dbcb70fb-b120-4c46-a66d-332e641eb3ee",
   "metadata": {},
   "outputs": [],
   "source": [
    "#Tasks 2 and 3\n",
    "# Write your calculate_error() function here"
   ]
  },
  {
   "cell_type": "code",
   "execution_count": 37,
   "id": "447fb426-0dc8-4a2b-bf41-b02ed954a887",
   "metadata": {},
   "outputs": [],
   "source": [
    "def calculate_error(m, b, point):\n",
    "    x_point = point[0]\n",
    "    y_point = point[1]\n",
    "    y_on_line = get_y(m, b, x_point)\n",
    "    error = abs(y_on_line - y_point)\n",
    "    return error"
   ]
  },
  {
   "cell_type": "code",
   "execution_count": 30,
   "id": "3497e9a5-7035-48ba-bc38-f46266d5e845",
   "metadata": {},
   "outputs": [],
   "source": [
    "#print(calculate_error(1, 0, (3, 3)))"
   ]
  },
  {
   "cell_type": "code",
   "execution_count": 31,
   "id": "c692e0d1-487c-4a39-b783-b126914ee682",
   "metadata": {},
   "outputs": [],
   "source": [
    "#print(calculate_error(1, 0, (3, 4)))"
   ]
  },
  {
   "cell_type": "code",
   "execution_count": 32,
   "id": "0ed84de5-447d-4a96-80ce-bfd7e4a4be25",
   "metadata": {},
   "outputs": [],
   "source": [
    "#print(calculate_error(1, -1, (3, 3)))"
   ]
  },
  {
   "cell_type": "code",
   "execution_count": 33,
   "id": "f383dc90-8ca3-4004-bbc9-56acd66ad1c2",
   "metadata": {},
   "outputs": [],
   "source": [
    "#print(calculate_error(-1, 1, (3, 3)))"
   ]
  },
  {
   "cell_type": "code",
   "execution_count": 19,
   "id": "f75995e6-3ea6-4ac8-a828-8fc6408318b0",
   "metadata": {},
   "outputs": [],
   "source": [
    "# Task 5\n",
    "# Write your calculate_all_error() function here\n"
   ]
  },
  {
   "cell_type": "code",
   "execution_count": 38,
   "id": "76aab0a7-5522-472e-81f9-d435c2a0caf9",
   "metadata": {},
   "outputs": [],
   "source": [
    "def calculate_all_error(m, b, points):\n",
    "    total_error = 0\n",
    "    for point in points:\n",
    "        total_error += calculate_error(m, b, point)\n",
    "    return total_error"
   ]
  },
  {
   "cell_type": "code",
   "execution_count": 41,
   "id": "cb165d2c-a144-406a-beef-08d85555b4af",
   "metadata": {},
   "outputs": [],
   "source": [
    "datapoints = [(1, 1), (3, 3), (5, 5), (-1, -1)]"
   ]
  },
  {
   "cell_type": "code",
   "execution_count": 42,
   "id": "742c693a-ba00-48b5-9a6f-0fd6179fa86b",
   "metadata": {},
   "outputs": [
    {
     "name": "stdout",
     "output_type": "stream",
     "text": [
      "0\n"
     ]
    }
   ],
   "source": [
    "print(calculate_all_error(1, 0, datapoints))"
   ]
  },
  {
   "cell_type": "code",
   "execution_count": 43,
   "id": "abfc7462-c1c7-491a-b63f-8e8869679110",
   "metadata": {},
   "outputs": [
    {
     "name": "stdout",
     "output_type": "stream",
     "text": [
      "4\n"
     ]
    }
   ],
   "source": [
    "print(calculate_all_error(1, 1, datapoints))"
   ]
  },
  {
   "cell_type": "code",
   "execution_count": 44,
   "id": "14861952-d4eb-4a49-9101-1dea6883eedb",
   "metadata": {},
   "outputs": [
    {
     "name": "stdout",
     "output_type": "stream",
     "text": [
      "4\n"
     ]
    }
   ],
   "source": [
    "print(calculate_all_error(1, -1, datapoints))"
   ]
  },
  {
   "cell_type": "code",
   "execution_count": 45,
   "id": "5377aa85-9c62-43a0-b393-73c97cf16270",
   "metadata": {},
   "outputs": [
    {
     "name": "stdout",
     "output_type": "stream",
     "text": [
      "18\n"
     ]
    }
   ],
   "source": [
    "print(calculate_all_error(-1, 1, datapoints))"
   ]
  },
  {
   "cell_type": "code",
   "execution_count": 46,
   "id": "ac839290-218a-469a-bfee-b29f4c8ee63c",
   "metadata": {},
   "outputs": [],
   "source": [
    "# Tasks 8 and 9"
   ]
  },
  {
   "cell_type": "code",
   "execution_count": 47,
   "id": "82a311cb-4494-428d-af21-95941f1397ab",
   "metadata": {},
   "outputs": [],
   "source": [
    "possible_ms = [m/10 for m in range(-100, 101)]"
   ]
  },
  {
   "cell_type": "code",
   "execution_count": 49,
   "id": "6b7619d8-c09c-4b16-a5ed-eb9fde7662a2",
   "metadata": {},
   "outputs": [],
   "source": [
    "#print(possible_ms)"
   ]
  },
  {
   "cell_type": "code",
   "execution_count": 51,
   "id": "1f5d4afa-bbf5-4b90-b1ff-b39f0f632e8a",
   "metadata": {},
   "outputs": [],
   "source": [
    "possible_bs = [b/10 for b in range(-200, 201)]"
   ]
  },
  {
   "cell_type": "code",
   "execution_count": 53,
   "id": "8e73ac93-704d-453b-98e0-1805727932a3",
   "metadata": {},
   "outputs": [],
   "source": [
    "#print(possible_bs)"
   ]
  },
  {
   "cell_type": "code",
   "execution_count": 64,
   "id": "935a4d90-f51e-40e9-8bab-a8c3e504a5d8",
   "metadata": {},
   "outputs": [],
   "source": [
    "smallest_error = float(\"inf\") \n",
    "best_m = 0\n",
    "best_b = 0\n",
    "datapoints = [(1, 2), (2, 0), (3, 4), (4, 4), (5, 3)]"
   ]
  },
  {
   "cell_type": "code",
   "execution_count": 65,
   "id": "29cd0260-e254-4c53-bd8a-6305526059f5",
   "metadata": {},
   "outputs": [],
   "source": [
    "for m in possible_ms:\n",
    "    for b in possible_bs:\n",
    "        error = calculate_all_error(m, b, datapoints)\n",
    "        if error < smallest_error:\n",
    "            smallest_error = error\n",
    "            best_m = m\n",
    "            best_b = b"
   ]
  },
  {
   "cell_type": "code",
   "execution_count": 66,
   "id": "37f711f1-bfa2-49b0-b4b9-f2fbf9fd530e",
   "metadata": {},
   "outputs": [
    {
     "name": "stdout",
     "output_type": "stream",
     "text": [
      "0.4\n"
     ]
    }
   ],
   "source": [
    "print(best_m)"
   ]
  },
  {
   "cell_type": "code",
   "execution_count": 67,
   "id": "1cb9eb72-47ad-43d8-b33b-282fd302c0e8",
   "metadata": {},
   "outputs": [
    {
     "name": "stdout",
     "output_type": "stream",
     "text": [
      "1.6\n"
     ]
    }
   ],
   "source": [
    "print(best_b)"
   ]
  },
  {
   "cell_type": "code",
   "execution_count": 68,
   "id": "0a49e1ef-0bc1-4baa-93d9-cfb8863bd27b",
   "metadata": {},
   "outputs": [
    {
     "name": "stdout",
     "output_type": "stream",
     "text": [
      "5.0\n"
     ]
    }
   ],
   "source": [
    "print(smallest_error)"
   ]
  },
  {
   "cell_type": "code",
   "execution_count": 70,
   "id": "4ce2e484-e495-4b5f-94ce-b45e3dc171aa",
   "metadata": {},
   "outputs": [
    {
     "name": "stdout",
     "output_type": "stream",
     "text": [
      "4.0\n"
     ]
    }
   ],
   "source": [
    "print(get_y((best_m), (best_b), 6))"
   ]
  },
  {
   "cell_type": "code",
   "execution_count": null,
   "id": "e24a5daa-9cc0-4f8a-bd23-332551771178",
   "metadata": {},
   "outputs": [],
   "source": []
  }
 ],
 "metadata": {
  "kernelspec": {
   "display_name": "Python 3 (ipykernel)",
   "language": "python",
   "name": "python3"
  },
  "language_info": {
   "codemirror_mode": {
    "name": "ipython",
    "version": 3
   },
   "file_extension": ".py",
   "mimetype": "text/x-python",
   "name": "python",
   "nbconvert_exporter": "python",
   "pygments_lexer": "ipython3",
   "version": "3.12.7"
  }
 },
 "nbformat": 4,
 "nbformat_minor": 5
}
